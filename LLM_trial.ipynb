{
 "cells": [
  {
   "cell_type": "markdown",
   "id": "959f9588-5637-4136-a0d1-daef45bd2c17",
   "metadata": {},
   "source": [
    "### I specifically looked for a notebook where I could use Ollama and LangChain to test out the installation and the result was [this medium blogpost](https://medium.com/@vchan444/get-started-with-llama-3-using-ollama-and-langchain-in-a-few-minutes-1e2b84c25f8b) from where I tried the following:"
   ]
  },
  {
   "cell_type": "code",
   "execution_count": 1,
   "id": "1aa5fe4e-e7d5-444e-a517-ee114bd4cc5a",
   "metadata": {},
   "outputs": [],
   "source": [
    "from langchain_community.llms import Ollama"
   ]
  },
  {
   "cell_type": "code",
   "execution_count": 2,
   "id": "02e47b35-db05-4d39-99b9-c062e1e6dda5",
   "metadata": {},
   "outputs": [],
   "source": [
    "llm = Ollama(model=\"llama2\")"
   ]
  },
  {
   "cell_type": "code",
   "execution_count": 3,
   "id": "eb068ce6-eb76-4d3b-b03c-8ea55032cef9",
   "metadata": {},
   "outputs": [
    {
     "data": {
      "text/plain": [
       "\"\\nSure, here's a classic one:\\n\\nWhy don't scientists trust atoms?\\nBecause they make up everything!\\n\\nI hope that made you smile!\""
      ]
     },
     "execution_count": 3,
     "metadata": {},
     "output_type": "execute_result"
    }
   ],
   "source": [
    "llm.invoke(\"Tell me a joke\",stop=['<|eot_id|>'])"
   ]
  },
  {
   "cell_type": "code",
   "execution_count": null,
   "id": "d3be0131-a52a-4b45-b1b3-500a5da71ef9",
   "metadata": {},
   "outputs": [],
   "source": []
  }
 ],
 "metadata": {
  "kernelspec": {
   "display_name": "Python 3 (ipykernel)",
   "language": "python",
   "name": "python3"
  },
  "language_info": {
   "codemirror_mode": {
    "name": "ipython",
    "version": 3
   },
   "file_extension": ".py",
   "mimetype": "text/x-python",
   "name": "python",
   "nbconvert_exporter": "python",
   "pygments_lexer": "ipython3",
   "version": "3.8.19"
  }
 },
 "nbformat": 4,
 "nbformat_minor": 5
}
